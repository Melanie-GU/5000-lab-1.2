{
 "cells": [
  {
   "cell_type": "markdown",
   "metadata": {},
   "source": [
    "---\n",
    "title: \"My Presentation\"\n",
    "author: \"Qiyue GU\"\n",
    "format:\n",
    "  revealjs: \n",
    "    code-fold: true \n",
    "bibliography: ../reference.bib\n",
    "jupyter: python3\n",
    "---"
   ]
  },
  {
   "cell_type": "markdown",
   "metadata": {},
   "source": [
    "## Slide 1: Introduction\n",
    "\n",
    "This is my presentation.\n",
    "\n",
    "- Reference\n",
    "- Photos\n",
    "- Python codes\n",
    "\n",
    "---\n",
    "\n",
    "## Slide 2: Reference\n",
    "\n",
    "For more details, refer to the work of Funnell et al. (2007) [@funnell2007dsme].\n",
    "\n",
    "---\n",
    "\n",
    "## Slide 3: Photos\n",
    "\n",
    "![Venn Diagram](../images/image1.png \"Venn Diagram\")\n",
    "\n",
    "![Bayer's Rule](../images/image2.png \"Bayer's Rule\")\n",
    "\n",
    "---\n",
    "\n",
    "## Slide 4: Data Visualization Example\n",
    "\n",
    "Here’s a simple plot:\n",
    "\n",
    "```{python}\n",
    "import matplotlib.pyplot as plt\n",
    "import numpy as np\n",
    "x = [1,2,3,4,5,6,7]\n",
    "y = [10,20,30,40,50,60,70]\n",
    "plt.plot(x,y)\n",
    "plt.show()\n",
    "```"
   ]
  }
 ],
 "metadata": {
  "kernelspec": {
   "display_name": "base",
   "language": "python",
   "name": "python3"
  },
  "language_info": {
   "codemirror_mode": {
    "name": "ipython",
    "version": 3
   },
   "file_extension": ".py",
   "mimetype": "text/x-python",
   "name": "python",
   "nbconvert_exporter": "python",
   "pygments_lexer": "ipython3",
   "version": "3.11.7"
  }
 },
 "nbformat": 4,
 "nbformat_minor": 2
}
